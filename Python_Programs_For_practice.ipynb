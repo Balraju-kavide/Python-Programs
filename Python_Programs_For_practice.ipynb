{
  "nbformat": 4,
  "nbformat_minor": 0,
  "metadata": {
    "colab": {
      "private_outputs": true,
      "provenance": [],
      "authorship_tag": "ABX9TyN+xe8bQzSKsFHZ0Jwfzx3U",
      "include_colab_link": true
    },
    "kernelspec": {
      "name": "python3",
      "display_name": "Python 3"
    },
    "language_info": {
      "name": "python"
    }
  },
  "cells": [
    {
      "cell_type": "markdown",
      "metadata": {
        "id": "view-in-github",
        "colab_type": "text"
      },
      "source": [
        "<a href=\"https://colab.research.google.com/github/Balraju-kavide/Python-Programs/blob/main/Python_Programs_For_practice.ipynb\" target=\"_parent\"><img src=\"https://colab.research.google.com/assets/colab-badge.svg\" alt=\"Open In Colab\"/></a>"
      ]
    },
    {
      "cell_type": "code",
      "execution_count": null,
      "metadata": {
        "id": "Ix_g7oRHGGnb"
      },
      "outputs": [],
      "source": [
        "#•\tFind the smallest number in an array\n",
        "a=(22,3,4,5,66,8,0)\n",
        "print(min(a))\n",
        "print(max(a))"
      ]
    },
    {
      "cell_type": "code",
      "source": [
        "a=(22,3,4,5,66,8,10)\n",
        "min=a[0]\n",
        "for i in range(len(a)):\n",
        "  if a[i]<min:\n",
        "     min=a[i]\n",
        "print(min)\n",
        "\n",
        "#=======================\n",
        "\n",
        "a=[1,3,23,45]\n",
        "b=a[0]\n",
        "for i in a:\n",
        "  if i<b:\n",
        "    b=i\n",
        "print(b)"
      ],
      "metadata": {
        "id": "ONZ9AktzGXay"
      },
      "execution_count": null,
      "outputs": []
    },
    {
      "cell_type": "code",
      "source": [],
      "metadata": {
        "id": "sgtkabwjfcmn"
      },
      "execution_count": null,
      "outputs": []
    },
    {
      "cell_type": "code",
      "source": [
        "#•\tFind the largest number in an array\n",
        "a=(1,2,3,4,54,56,33,22)\n",
        "max=a[0]\n",
        "for i in range(len(a)):\n",
        "  if a[i]>max:\n",
        "     max=a[i]\n",
        "print(max)\n",
        "\n",
        "#================\n",
        "\n",
        "a=(1,2,3,4,54,56,33,22)\n",
        "max=a[0]\n",
        "for i in a:\n",
        "  if i<max:\n",
        "    max=i\n",
        "print(max)\n"
      ],
      "metadata": {
        "id": "iEDsHegHG38O"
      },
      "execution_count": null,
      "outputs": []
    },
    {
      "cell_type": "code",
      "source": [
        "#•\tSecond Smallest and Second Largest element in an array\n",
        "a=[1,2,3,4,2,5,6,7,9]\n",
        "b=sorted(a)\n",
        "print(b)\n",
        "print(b[1])\n",
        "print(b[-2])"
      ],
      "metadata": {
        "id": "m99kker4IRvl"
      },
      "execution_count": null,
      "outputs": []
    },
    {
      "cell_type": "code",
      "source": [
        "a=[1,99,2,3,4,5,6,45,34]\n",
        "b=sorted(a)\n",
        "print(b)\n",
        "for i in a:\n",
        "  if i>b[0] and i<b[2]:\n",
        "    print(i)\n",
        "\n",
        "\n",
        "\n",
        "\n",
        "# second= a[0]\n",
        "# largest= a[0]\n",
        "# for i in range(len(a)):\n",
        "#   if a[i] > largest:\n",
        "#     largest=[i]\n",
        "# #print(largest)\n",
        "# for i in range(len(a)):\n",
        "#   if a[i] > second and a[i]!=largest:\n",
        "#       second=a[i]\n",
        "# print(second)"
      ],
      "metadata": {
        "id": "elqb1dr7JYVZ"
      },
      "execution_count": null,
      "outputs": []
    },
    {
      "cell_type": "code",
      "source": [
        "a=[44,55,67,8,2,22,34]\n",
        "b=sorted(a)\n",
        "for i in a:\n",
        "  if i<b[len(a)-1] and i>b[(len(a)-2)-1]:\n",
        "    print(i)\n",
        "\n",
        "# first=a[0]\n",
        "# second=a[0]\n",
        "# for i in range(len(a)):\n",
        "#   if a[i]<first:\n",
        "#     first= [i]\n",
        "# for i in range(len(a)):\n",
        "#   if a[i]<second and a[i]!=first:\n",
        "#     second=a[i]\n",
        "# print(second)"
      ],
      "metadata": {
        "id": "8oJbSXRyL2G7"
      },
      "execution_count": null,
      "outputs": []
    },
    {
      "cell_type": "code",
      "source": [
        "#•\tReverse a given array\n",
        "a=[4,5,6,7,8]\n",
        "if a[:: -1]:\n",
        "   print(a)"
      ],
      "metadata": {
        "id": "kHhi6ZDwN83_"
      },
      "execution_count": null,
      "outputs": []
    },
    {
      "cell_type": "code",
      "source": [
        "a=[4,5,6,7,5]\n",
        "reverse=[]\n",
        "for i in a:\n",
        "  if a[-1]==True:\n",
        "    print(i)"
      ],
      "metadata": {
        "id": "eIJ1X93Stkxm"
      },
      "execution_count": null,
      "outputs": []
    },
    {
      "cell_type": "code",
      "source": [
        "#•\tCount frequency of each element in an array\n",
        "a=[1,4,2,3,5,2,4,3,1]\n",
        "count={}\n",
        "for i in a:\n",
        "  if i in count:\n",
        "    count[i]+=1\n",
        "  else:\n",
        "    count[i]=1\n",
        "print(count)"
      ],
      "metadata": {
        "id": "_gQGL4l-PYr1"
      },
      "execution_count": null,
      "outputs": []
    },
    {
      "cell_type": "code",
      "source": [
        "arr=[1,2,3,43,2,4,2,1,3]\n",
        "n=len(arr)\n",
        "visited = [False] * n\n",
        "for i in range(n):\n",
        "    if (visited[i] == True):\n",
        "        continue\n",
        "    count = 1\n",
        "    for j in range(i + 1, n):\n",
        "        if (arr[i] == arr[j]):\n",
        "            visited[j] = True\n",
        "            count += 1\n",
        "    print(arr[i], count)"
      ],
      "metadata": {
        "id": "uRr-6NWzSIFa"
      },
      "execution_count": null,
      "outputs": []
    },
    {
      "cell_type": "code",
      "source": [
        "#•\tRearrange array in increasing-decreasing order\n",
        "a=[77,33,55,22,66,88,22]\n",
        "a.sort()\n",
        "print(a)\n",
        "#print(a[::-1])"
      ],
      "metadata": {
        "id": "WRkuYOIeSwrJ"
      },
      "execution_count": null,
      "outputs": []
    },
    {
      "cell_type": "code",
      "source": [
        "from re import TEMPLATE\n",
        "a=[77,33,55,22,66,88,22]\n",
        "#asc=[]\n",
        "for i in range(len(a)):\n",
        "    for j in range(i+1,len(a)):\n",
        "        if a[i] < a[j]:\n",
        "            temp=a[i]\n",
        "            a[i]=a[j]\n",
        "            a[j]=temp\n",
        "print(a)\n",
        "# print(len(asc))"
      ],
      "metadata": {
        "id": "fZnLzt6TTpRc"
      },
      "execution_count": null,
      "outputs": []
    },
    {
      "cell_type": "code",
      "source": [
        "#•\tCalculate sum of the elements of the array\n",
        "ar=[1,2,3,4,5,3,8,7]\n",
        "s=0\n",
        "for i in ar:\n",
        "   s= s+i\n",
        "print(s)"
      ],
      "metadata": {
        "id": "SyJAnAmeoUej"
      },
      "execution_count": null,
      "outputs": []
    },
    {
      "cell_type": "code",
      "source": [],
      "metadata": {
        "id": "M_5PW52RJi8y"
      },
      "execution_count": null,
      "outputs": []
    },
    {
      "cell_type": "code",
      "source": [
        "arr=[1,2,3,4,3,2,5,6,7,56,]\n",
        "arr.sort()\n",
        "print(arr)\n",
        "arr=set(arr)\n",
        "print(arr)"
      ],
      "metadata": {
        "id": "kY4HklbHtA2i"
      },
      "execution_count": null,
      "outputs": []
    },
    {
      "cell_type": "code",
      "source": [
        "a=[1,2,3,4]\n",
        "a.append(5)\n",
        "a.append(9)\n",
        "a.insert(2,8)\n",
        "print(a)\n",
        "a=set(a)\n",
        "print(a)"
      ],
      "metadata": {
        "id": "fCZbyDCEuYMq"
      },
      "execution_count": null,
      "outputs": []
    },
    {
      "cell_type": "code",
      "source": [
        "a=\"hello world\"\n",
        "print(a.capitalize())\n",
        "\n"
      ],
      "metadata": {
        "id": "fwQZc3Jsy6lq"
      },
      "execution_count": null,
      "outputs": []
    },
    {
      "cell_type": "code",
      "source": [
        "# Check if a number is palindrome or not\n",
        "# Find all Palindrome numbers in a given range\n",
        "# Check if a number is prime or not\n",
        "# Prime numbers in a given range"
      ],
      "metadata": {
        "id": "yP4HzXQi_5K4"
      },
      "execution_count": null,
      "outputs": []
    },
    {
      "cell_type": "code",
      "source": [
        "#Check if a number is palindrome or not\n",
        "def palin(num):\n",
        "  num=str(num)\n",
        "  if num[::-1]==num:\n",
        "    print(\"palindrome\")\n",
        "  else:\n",
        "    print(\"not a palindrome\")\n",
        "palin(12321)\n",
        "print(\"=====\")\n",
        "palin(12323)"
      ],
      "metadata": {
        "id": "c2-mm4H6_5Fw"
      },
      "execution_count": null,
      "outputs": []
    },
    {
      "cell_type": "code",
      "source": [
        "#Find all Palindrome numbers in a given range\n",
        "def palin(num):\n",
        "  for i in range(10,num+1):\n",
        "     a=str(i)\n",
        "     if a[::-1]==a:\n",
        "       print(i)\n",
        "    #    print(\"palindrom\")\n",
        "    #  else:\n",
        "    #    print(\"not a palindrpm\")\n",
        "palin(100)\n"
      ],
      "metadata": {
        "id": "t9FEWMWw_5CX"
      },
      "execution_count": null,
      "outputs": []
    },
    {
      "cell_type": "code",
      "source": [
        "#Check if a number is prime or not\n",
        "def prime(num):\n",
        "  for i in range(2,num):\n",
        "    if num%i==0:\n",
        "      print(f\"{num} is not a prime number\")\n",
        "      break\n",
        "    else:\n",
        "      print(f\"{num} is  a prime number\")\n",
        "      break\n",
        "num=int(input(\"enter the number\"))\n",
        "prime(num)\n"
      ],
      "metadata": {
        "id": "kN33AYDP_4_M"
      },
      "execution_count": null,
      "outputs": []
    },
    {
      "cell_type": "code",
      "source": [
        "# num=int(input())\n",
        "# for i in range(2,num+1):\n",
        "#     if num%i==0:\n",
        "#       break\n",
        "#     print(i)\n",
        "#     #   print(f\"{num} is not a prime number\")\n",
        "\n",
        "#     # else:\n",
        "#     #   print(f\"{num} is  a prime number\")\n",
        "\n",
        "\n"
      ],
      "metadata": {
        "id": "mxgFguxl_47m"
      },
      "execution_count": null,
      "outputs": []
    },
    {
      "cell_type": "code",
      "source": [
        "Check if a number is armstrong number of not\n",
        "Check if a number is perfect number\n",
        "Even or Odd\n",
        "Check weather a given number is positive or negative\n",
        "Sum of first N natural numbers"
      ],
      "metadata": {
        "id": "f7FotzY89rtv"
      },
      "execution_count": null,
      "outputs": []
    },
    {
      "cell_type": "code",
      "source": [
        "#even or odd\n",
        "def even(num):\n",
        "  if num%2==0:\n",
        "    print(f\"{num} is even number\")\n",
        "  else:\n",
        "    print(f\"{num} is odd number\")\n",
        "num=int(input(\"enter the number\"))\n",
        "even(num)\n"
      ],
      "metadata": {
        "id": "10244CT3_-gp"
      },
      "execution_count": null,
      "outputs": []
    },
    {
      "cell_type": "code",
      "source": [
        "#Check weather a given number is positive or negative\n",
        "def positive_negative(num):\n",
        "  if num<0:\n",
        "    print(f\"{num} is negative number\")\n",
        "  else:\n",
        "    print(f\"{num} is positive number\")\n",
        "\n",
        "num=int(input(\"enter the number\"))\n",
        "positive_negative(num)\n",
        "\n"
      ],
      "metadata": {
        "id": "wACTckUdelHI"
      },
      "execution_count": null,
      "outputs": []
    },
    {
      "cell_type": "code",
      "source": [
        "#Sum of first N natural numbers\n",
        "def natural(num):\n",
        "  sum=0\n",
        "  for i in range(1,num+1):\n",
        "    print(i,end=\" \")\n",
        "    sum+=i\n",
        "  print(sum)\n",
        "natural(10)"
      ],
      "metadata": {
        "id": "PqvhdJbNfyjp"
      },
      "execution_count": null,
      "outputs": []
    },
    {
      "cell_type": "code",
      "source": [
        "# Check if a number is armstrong number of not\n",
        "num=int(input(\"enter the number:\"))\n",
        "a=str(num)  #----->integer can not be converted into list\n",
        "l=list(a)   #----->string can be converted into list.\n",
        "#print(l)\n",
        "#print(a)\n",
        "sum=0\n",
        "for i in l:                   #amstrong number means 1***+5***+3***=153\n",
        "  sum=sum+int(i)**len(l)\n",
        "#print(sum)\n",
        "if sum==num:\n",
        "  print(\"amstrong number\")\n",
        "else:\n",
        "  print(\"not amstrong number\")\n",
        "\n"
      ],
      "metadata": {
        "id": "9LiOYCT0giUk"
      },
      "execution_count": null,
      "outputs": []
    },
    {
      "cell_type": "code",
      "source": [
        "#Check if a number is perfect number\n",
        "num = int(input())\n",
        "sum=0\n",
        "for i in range(1,num):\n",
        "  if (num%i==0):                           #perfect number means 3*2*1=6 or 3+2+1=6\n",
        "    sum=sum+i\n",
        "if (sum==num):\n",
        "  print(f\"{num} is a perfect number\")\n",
        "else:\n",
        "  print(f\"{num} is not a perfect number\")"
      ],
      "metadata": {
        "id": "ExB1b-6_iNtD"
      },
      "execution_count": null,
      "outputs": []
    },
    {
      "cell_type": "code",
      "source": [
        "n = int(input(\"enter the number:\"))\n",
        "for i in range(1,n+1):\n",
        "  print(i)"
      ],
      "metadata": {
        "id": "Pkbvh20Lr8wa"
      },
      "execution_count": null,
      "outputs": []
    },
    {
      "cell_type": "code",
      "source": [
        "•\tGreatest of two numbers\n",
        "•\tGreatest of three numbers\n",
        "•\tLeap Year or not\n",
        "•\tReverse digits of a number\n",
        "•\tMaximum and Minimum digit in a number\n",
        "•\tPrint Fibonacci upto Nth Term\n",
        "•\tFactorial of a number\n",
        "•\tPower of a number\n",
        "•\tFactors of a given number\n"
      ],
      "metadata": {
        "id": "dMQyZwx8r8s7"
      },
      "execution_count": null,
      "outputs": []
    },
    {
      "cell_type": "code",
      "source": [
        "# Greatest of two numbers\n",
        "first_number=int(input(\"enter the first number:\"))\n",
        "second_number=int(input(\"enter the second number:\"))\n",
        "\n",
        "if first_number > second_number:\n",
        "  print(f\"{first_number} is greater thean {second_number}\")\n",
        "else:\n",
        "  print(f\"{second_number} is greater thean {first_number}\")"
      ],
      "metadata": {
        "id": "sqLisqpUr8qm"
      },
      "execution_count": null,
      "outputs": []
    },
    {
      "cell_type": "code",
      "source": [
        "# Greatest of three numbers\n",
        "first_number=int(input(\"enter the first number:\"))\n",
        "second_number=int(input(\"enter the second number:\"))\n",
        "third_number=int(input(\"eneter the third number\"))\n",
        "\n",
        "if first_number >second_number and first_number >third_number:\n",
        "  print(f\"{first_number} is greater than the {second_number} and {third_number}\")\n",
        "elif second_number >first_number and second_number > third_number:\n",
        "  print(f\"{second_number} is greater than the {first_number} and {third_number}\")\n",
        "else:\n",
        "  print(f\"{third_number} is greater than the {first_number} and {second_number}\")"
      ],
      "metadata": {
        "id": "dNHGiCmLr8oQ"
      },
      "execution_count": null,
      "outputs": []
    },
    {
      "cell_type": "code",
      "source": [
        "# Leap Year or not\n",
        "year = int(input(\"enter the year:\"))\n",
        "if year%4==0:\n",
        "  print(f\"{year} is a leap year\")\n",
        "else:\n",
        "  print(f\"{year} is not a leap year\")"
      ],
      "metadata": {
        "id": "H4vq8vFor8ln"
      },
      "execution_count": null,
      "outputs": []
    },
    {
      "cell_type": "code",
      "source": [
        "# Reverse digits of a number\n",
        "num=int(input(\"enter the number:\"))\n",
        "num=str(num)\n",
        "a=num[::-1]\n",
        "print(a)\n",
        "print(\"================\")\n",
        "\n",
        "\n",
        "num =int(input())\n",
        "num=str(num)\n",
        "a=\"\"\n",
        "for i in num:\n",
        "  a=i+a\n",
        "print(a)"
      ],
      "metadata": {
        "id": "frRqBzT_r8ix"
      },
      "execution_count": null,
      "outputs": []
    },
    {
      "cell_type": "code",
      "source": [
        "# Maximum and Minimum digit in a number\n",
        "a=int(input(\"enter the number:\"))\n",
        "max=0\n",
        "for i in a:\n"
      ],
      "metadata": {
        "id": "sxLtmN9fok2a"
      },
      "execution_count": null,
      "outputs": []
    },
    {
      "cell_type": "code",
      "source": [
        "elements = [0, 1, 2]\n",
        "def incr(x):\n",
        "    return x+1\n",
        "print(list(map(elements, incr)))"
      ],
      "metadata": {
        "id": "izyDLZCHLmy0"
      },
      "execution_count": null,
      "outputs": []
    }
  ]
}